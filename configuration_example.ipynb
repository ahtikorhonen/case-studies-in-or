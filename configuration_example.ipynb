{
 "cells": [
  {
   "cell_type": "code",
   "execution_count": 62,
   "id": "e6028a19",
   "metadata": {},
   "outputs": [
    {
     "name": "stdout",
     "output_type": "stream",
     "text": [
      "The autoreload extension is already loaded. To reload it, use:\n",
      "  %reload_ext autoreload\n"
     ]
    }
   ],
   "source": [
    "%load_ext autoreload\n",
    "%autoreload 2"
   ]
  },
  {
   "cell_type": "code",
   "execution_count": 63,
   "id": "da3fa6e9",
   "metadata": {},
   "outputs": [
    {
     "data": {
      "text/html": [
       "<img src=\"figures/skenaario1konf1.png\" width=\"800\"/>"
      ],
      "text/plain": [
       "<IPython.core.display.Image object>"
      ]
     },
     "execution_count": 63,
     "metadata": {},
     "output_type": "execute_result"
    }
   ],
   "source": [
    "from IPython.display import Image \n",
    "Image(url=\"figures/skenaario1konf1.png\", width=800)"
   ]
  },
  {
   "cell_type": "code",
   "execution_count": 64,
   "id": "4b12cbad",
   "metadata": {},
   "outputs": [],
   "source": [
    "import matplotlib.pyplot as plt\n",
    "\n",
    "from simulation.simulation import Simulation\n",
    "from simulation.sim_utils import sample_poisson_threats\n",
    "from simulation.asset import Asset\n",
    "\n",
    "from utils import read_json"
   ]
  },
  {
   "cell_type": "code",
   "execution_count": 65,
   "id": "7f0373f2",
   "metadata": {},
   "outputs": [],
   "source": [
    "lambdas = {\n",
    "    \"MC\": 5,\n",
    "    \"FW\": 1\n",
    "}\n",
    "\n",
    "objects = read_json(\"simulation/objects\")\n",
    "threats = objects[\"threats\"]\n",
    "observers = objects[\"observers\"]\n",
    "effectors = objects[\"effectors\"]"
   ]
  },
  {
   "cell_type": "code",
   "execution_count": 66,
   "id": "755f4197",
   "metadata": {},
   "outputs": [],
   "source": [
    "visibility_coeff = 1\n",
    "asset_value = 500_000\n",
    "hq_value = 1_000_000\n",
    "\n",
    "# I have shifted the locations from image above so that hq is at position (0,0)\n",
    "# and distances are in meters, but the same formation still remains\n",
    "# also ITKK is replaced by remote weapon statioo\n",
    "hq = Asset(hq_value, [], [], visibility_coeff)\n",
    "asset_2 = Asset(asset_value, [effectors[3]], [], visibility_coeff, position=(2200, -1250))\n",
    "asset_3 = Asset(asset_value, [], [observers[4]], visibility_coeff, position=(2300, -1300))\n",
    "asset_4 = Asset(asset_value, [], [observers[1]], visibility_coeff, position=(2400, -1250))\n",
    "asset_5 = Asset(asset_value, [effectors[3]], [observers[4]], visibility_coeff, position=(2200, 400))\n",
    "asset_6 = Asset(asset_value, [], [], visibility_coeff, position=(2300, 500))\n",
    "asset_7 = Asset(asset_value, [], [], visibility_coeff, position=(2400, 500))\n",
    "\n",
    "asset_8 = Asset(asset_value, [], [], visibility_coeff, position=(500, -300))\n",
    "\n",
    "asset_9 = Asset(asset_value, [effectors[3]], [observers[4]], visibility_coeff, position=(-800, -600))\n",
    "asset_10 = Asset(asset_value, [], [], visibility_coeff, position=(-700, -700))\n",
    "asset_11 = Asset(asset_value, [], [], visibility_coeff, position=(-500, -750))\n",
    "asset_12 = Asset(asset_value, [], [observers[4]], visibility_coeff, position=(-1200, 700))\n",
    "asset_13 = Asset(asset_value, [], [observers[1]], visibility_coeff, position=(-1100, 650))\n",
    "asset_14 = Asset(asset_value, [effectors[3]], [], visibility_coeff, position=(-1000, 650))\n",
    "\n",
    "asset_15 = Asset(asset_value, [], [observers[0]], visibility_coeff, position=(-1950, -650))\n",
    "asset_16 = Asset(asset_value, [], [], visibility_coeff, position=(-2000, -500))\n",
    "asset_17 = Asset(asset_value, [], [], visibility_coeff, position=(-2200, -600))"
   ]
  },
  {
   "cell_type": "code",
   "execution_count": 67,
   "id": "9c67575e",
   "metadata": {},
   "outputs": [
    {
     "name": "stdout",
     "output_type": "stream",
     "text": [
      "1634113.2863 853342.7423684356 3.2284\n"
     ]
    }
   ],
   "source": [
    "def generate_threats():\n",
    "    return sample_poisson_threats(assets, objects[\"threats\"], lambdas)\n",
    "        \n",
    "assets = [hq, asset_2, asset_3, asset_4, asset_5, asset_6, asset_7, asset_8, asset_9, \\\n",
    "    asset_10, asset_11, asset_12, asset_13, asset_14, asset_15, asset_16, asset_17]\n",
    "threats = generate_threats()\n",
    "sim = Simulation(assets, threats, generate_threats=generate_threats)\n",
    "avg_cost, cost_std, avg_no_of_assets_desstroyed = sim.simulate_n_attacks(10_000)\n",
    "print(avg_cost, cost_std, avg_no_of_assets_desstroyed)"
   ]
  }
 ],
 "metadata": {
  "kernelspec": {
   "display_name": ".venv",
   "language": "python",
   "name": "python3"
  },
  "language_info": {
   "codemirror_mode": {
    "name": "ipython",
    "version": 3
   },
   "file_extension": ".py",
   "mimetype": "text/x-python",
   "name": "python",
   "nbconvert_exporter": "python",
   "pygments_lexer": "ipython3",
   "version": "3.10.13"
  }
 },
 "nbformat": 4,
 "nbformat_minor": 5
}
