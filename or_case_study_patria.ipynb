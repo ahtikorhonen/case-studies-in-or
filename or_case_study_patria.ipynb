{
 "cells": [
  {
   "cell_type": "markdown",
   "metadata": {},
   "source": [
    "<p style=\"text-align: center;\"> COST-EFFICIENT DEFENCE AGAINST UNMANNED AERIAL SYSTEMS </p>\n",
    "\n",
    "---"
   ]
  },
  {
   "cell_type": "code",
   "execution_count": 1,
   "metadata": {},
   "outputs": [],
   "source": [
    "import numpy as np\n",
    "import numba as nb\n",
    "import matplotlib.pyplot as plt"
   ]
  },
  {
   "cell_type": "code",
   "execution_count": 5,
   "metadata": {},
   "outputs": [],
   "source": [
    "# TODO: laita githubiin ja jaa muille\n",
    "\n",
    "n_sims = 100_000\n",
    "\n",
    "asset_value = 300_000 # asset is for example an APC, tank, air defense system etc.\n",
    "defense_budget_for_asset = 0.5 # pct of the assets value that can spent on its defense\n",
    "\n",
    "threats = {\n",
    "         # threat_name: {threat_price, [(distance, prob_of_destroying_asset),...], distribution_for_number_of_threats_in_a_single_attack}\n",
    "         \"FPV\": {\"price\": 500, \"prob\": [(10_000, 0.1), (5_000, 0.2), (500, 0.4)], \"dist\": [0.1, 0.4, 0.3, 0.15, 0.05], \"range\": 5},\n",
    "         \"CMC\": {\"price\": 3_000, \"prob\": [(10_000, 0.2), (5_000, 0.3), (500, 0.5)], \"dist\": [0.2, 0.5, 0.2, 0.1], \"range\": 4},\n",
    "         \"MMC\": {\"price\": 20_000, \"prob\": [(10_000, 0.2), (5_000, 0.4), (500, 0.8)], \"dist\": [0.3, 0.5, 0.2], \"range\": 3}\n",
    "        }\n",
    "\n",
    "# each key in the dict is a name of the effector and each value is a set consisting of\n",
    "# (price, Prob. of destroying threat 1, Prob. of destroying threat 2, ...)\n",
    "effectors = {\"shotgun\": (300, 0.2, 0.1, 0.05), \"gps_spoofer\": (), \"rf_jammer\": (30_000, 0.9, 0.8, 0.6)}"
   ]
  },
  {
   "cell_type": "code",
   "execution_count": 3,
   "metadata": {},
   "outputs": [],
   "source": [
    "def num_of_drones(drone_type: str) -> int:\n",
    "    \"\"\"\n",
    "    Samples the number of a specific drone type in a single attack on the asset\n",
    "    :drone_type (str): name of the drone type\n",
    "    :return (int): the sampled number of drones\n",
    "    \"\"\"\n",
    "    try:\n",
    "        dist = threats[drone_type][\"dist\"]\n",
    "        range = threats[drone_type][\"range\"]\n",
    "        \n",
    "        return np.random.choice(range, p=dist)\n",
    "    \n",
    "    except Exception as ex:\n",
    "        raise (f\"Failed to sample number of drones - {str(ex)}\")"
   ]
  },
  {
   "cell_type": "code",
   "execution_count": null,
   "metadata": {},
   "outputs": [],
   "source": [
    "def simulate_one_attack():\n",
    "    pass"
   ]
  },
  {
   "cell_type": "code",
   "execution_count": 85,
   "metadata": {},
   "outputs": [
    {
     "data": {
      "text/plain": [
       "3"
      ]
     },
     "execution_count": 85,
     "metadata": {},
     "output_type": "execute_result"
    }
   ],
   "source": [
    "def simulate_n_attack(n: int):\n",
    "    pass"
   ]
  }
 ],
 "metadata": {
  "kernelspec": {
   "display_name": "venv",
   "language": "python",
   "name": "python3"
  },
  "language_info": {
   "codemirror_mode": {
    "name": "ipython",
    "version": 3
   },
   "file_extension": ".py",
   "mimetype": "text/x-python",
   "name": "python",
   "nbconvert_exporter": "python",
   "pygments_lexer": "ipython3",
   "version": "3.10.13"
  }
 },
 "nbformat": 4,
 "nbformat_minor": 2
}
