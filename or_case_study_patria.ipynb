{
 "cells": [
  {
   "cell_type": "markdown",
   "metadata": {},
   "source": [
    "<p style=\"text-align: center;\"> COST-EFFICIENT DEFENCE AGAINST UNMANNED AERIAL SYSTEMS </p>\n",
    "\n",
    "---"
   ]
  },
  {
   "cell_type": "code",
   "execution_count": 54,
   "metadata": {},
   "outputs": [],
   "source": [
    "%autoreload 2\n",
    "\n",
    "import numpy as np\n",
    "import numba as nb\n",
    "import matplotlib.pyplot as plt\n",
    "\n",
    "from simulation import Simulation\n",
    "\n",
    "from utils import read_json"
   ]
  },
  {
   "cell_type": "code",
   "execution_count": 55,
   "metadata": {},
   "outputs": [
    {
     "data": {
      "text/plain": [
       "{'threats': [{'type': 'FPV',\n",
       "   'price': 500,\n",
       "   'prob': [[10000, 0.1], [5000, 0.2], [500, 0.4]],\n",
       "   'dist': [0.1, 0.4, 0.3, 0.15, 0.05],\n",
       "   'range': 5},\n",
       "  {'type': 'CMC',\n",
       "   'price': 3000,\n",
       "   'prob': [[10000, 0.2], [5000, 0.3], [500, 0.5]],\n",
       "   'dist': [0.2, 0.5, 0.2, 0.1],\n",
       "   'range': 4},\n",
       "  {'type': 'MMC',\n",
       "   'price': 20000,\n",
       "   'prob': [[10000, 0.2], [5000, 0.4], [500, 0.8]],\n",
       "   'dist': [0.3, 0.5, 0.2],\n",
       "   'range': 3}],\n",
       " 'assets': [{'value': 1000000,\n",
       "   'effectors': [],\n",
       "   'observers': [],\n",
       "   'position': [0, 0]}]}"
      ]
     },
     "execution_count": 55,
     "metadata": {},
     "output_type": "execute_result"
    }
   ],
   "source": [
    "objects = read_json(\"objects\")\n",
    "objects"
   ]
  },
  {
   "cell_type": "code",
   "execution_count": 56,
   "metadata": {},
   "outputs": [],
   "source": [
    "sim = Simulation(objects)"
   ]
  }
 ],
 "metadata": {
  "kernelspec": {
   "display_name": ".venv",
   "language": "python",
   "name": "python3"
  },
  "language_info": {
   "codemirror_mode": {
    "name": "ipython",
    "version": 3
   },
   "file_extension": ".py",
   "mimetype": "text/x-python",
   "name": "python",
   "nbconvert_exporter": "python",
   "pygments_lexer": "ipython3",
   "version": "3.10.13"
  }
 },
 "nbformat": 4,
 "nbformat_minor": 2
}
